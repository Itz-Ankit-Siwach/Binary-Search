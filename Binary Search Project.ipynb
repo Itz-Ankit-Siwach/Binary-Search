{
 "cells": [
  {
   "cell_type": "markdown",
   "id": "89f5b399",
   "metadata": {},
   "source": [
    "Binary Search"
   ]
  },
  {
   "cell_type": "code",
   "execution_count": 27,
   "id": "d47d7490",
   "metadata": {},
   "outputs": [
    {
     "name": "stdout",
     "output_type": "stream",
     "text": [
      "Please enter the value you want to check 5\n",
      "Yes the element is present in list at index : 2\n"
     ]
    }
   ],
   "source": [
    "# Time Complexity -> O(log(n))\n",
    "\n",
    "# creating a list\n",
    "list=[]\n",
    "for i in range(1,100,2):\n",
    "    list.append(i)\n",
    "\n",
    "# sorting list as binary search work ony on sorted list \n",
    "list.sort()\n",
    "\n",
    "# taking input from user which he/she want to search in list\n",
    "val=int(input('Please enter the value you want to check : '))\n",
    "\n",
    "# creating a recursive function to find the value in list \n",
    "''' 1st find middle index value: (mid=start+end)/2\n",
    "     then compare middle index==val\n",
    "     if yes print else with start and end then repeat\n",
    "     compare val<mid,if true end=mid+1\n",
    "     compare val>mid, if true start =mid+1'''\n",
    "\n",
    "def binary_search(list,val):\n",
    "    start,end =0,len(list)-1\n",
    "    while start<=end:\n",
    "        mid = (start+end)//2\n",
    "        if val==list[mid]:\n",
    "            return f'Yes the element is present in list at index : {mid}'\n",
    "        elif val<list[mid]:\n",
    "            end=mid-1\n",
    "        elif val>list[mid]:\n",
    "            start=mid+1\n",
    "    return 'Sorry no such value present in the list'\n",
    "# calling function\n",
    "print(binary_search(list,val))\n",
    "\n"
   ]
  }
 ],
 "metadata": {
  "kernelspec": {
   "display_name": "Python 3 (ipykernel)",
   "language": "python",
   "name": "python3"
  },
  "language_info": {
   "codemirror_mode": {
    "name": "ipython",
    "version": 3
   },
   "file_extension": ".py",
   "mimetype": "text/x-python",
   "name": "python",
   "nbconvert_exporter": "python",
   "pygments_lexer": "ipython3",
   "version": "3.9.7"
  }
 },
 "nbformat": 4,
 "nbformat_minor": 5
}
